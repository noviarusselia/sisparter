{
 "cells": [
  {
   "cell_type": "code",
   "execution_count": 1,
   "metadata": {},
   "outputs": [
    {
     "name": "stdout",
     "output_type": "stream",
     "text": [
      "31415.926544231337\n",
      "3.1415926544231336\n"
     ]
    }
   ],
   "source": [
    "# import mpi4py\n",
    "from mpi4py import MPI\n",
    "\n",
    "# buat fungsi dekomposisi bernama local_loop \n",
    "# local_loop akan menghitung setiap bagiannya\n",
    "# gunakan 4/(1+x^2), perhatikan batas awal dan akhir untuk dekomposisi\n",
    "# misalkan size = 4 maka proses 0 menghitung 0-25, proses 1 menghitung 26-50, dst\n",
    "def local_loop(num_steps,begin,end):\n",
    "    steps = 1.0/num_steps\n",
    "    sum = 0\n",
    "    # 4/(1+x^2)\n",
    "    for i in range(begin,end):\n",
    "        x = (i + 0.5) * steps\n",
    "        sum = sum + 4.0 / (1.0 + x * x)\n",
    "    print (sum)\n",
    "    return sum    \n",
    "\n",
    "# fungsi Pi\n",
    "def Pi(num_steps):\n",
    "    \n",
    "    # buat COMM\n",
    "    comm = MPI.COMM_WORLD\n",
    "    \n",
    "    # dapatkan rank proses\n",
    "    rank = comm.Get_rank()\n",
    "    \n",
    "    # dapatkan total proses berjalan\n",
    "    size = comm.Get_size()\n",
    "    \n",
    "    # buat variabel baru yang merupakan num_steps/total proses\n",
    "    new_var = num_steps/size\n",
    "    \n",
    "    # cari local_sum\n",
    "    # local_sum merupakan hasil dari memanggil fungsi local_loop\n",
    "    local_sum = local_loop(num_steps, int(rank * new_var), int((rank + 1) * new_var))\n",
    "    \n",
    "    # lakukan penjumlahan dari local_sum proses-proses yang ada ke proses 0\n",
    "    # bisa digunakan reduce atau p2p sum\n",
    "    sum = comm.allreduce(local_sum,op=MPI.SUM)\n",
    "    \n",
    "    # jika saya proses dengan rank 0  maka tampilkan hasilnya\n",
    "    if rank == 0:\n",
    "        pi = sum / num_steps\n",
    "        print (pi)\n",
    "    \n",
    "# panggil fungsi utama    \n",
    "if __name__ == '__main__':\n",
    "    Pi(10000)\n"
   ]
  },
  {
   "cell_type": "code",
   "execution_count": null,
   "metadata": {},
   "outputs": [],
   "source": []
  }
 ],
 "metadata": {
  "kernelspec": {
   "display_name": "Python 3",
   "language": "python",
   "name": "python3"
  },
  "language_info": {
   "codemirror_mode": {
    "name": "ipython",
    "version": 3
   },
   "file_extension": ".py",
   "mimetype": "text/x-python",
   "name": "python",
   "nbconvert_exporter": "python",
   "pygments_lexer": "ipython3",
   "version": "3.7.6"
  }
 },
 "nbformat": 4,
 "nbformat_minor": 4
}
