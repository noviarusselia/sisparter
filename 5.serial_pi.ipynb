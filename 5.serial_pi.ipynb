{
 "cells": [
  {
   "cell_type": "code",
   "execution_count": 2,
   "metadata": {},
   "outputs": [
    {
     "name": "stdout",
     "output_type": "stream",
     "text": [
      "Pi with 100000 steps is 3.141593 in 0.015956 secs\n"
     ]
    }
   ],
   "source": [
    "import time\n",
    "\n",
    "def Pi(num_steps):\n",
    "    start = time.time()\n",
    "    step = 1.0/num_steps\n",
    "    sum = 0\n",
    "    for i in range(num_steps):\n",
    "        x= (i+0.5)*step\n",
    "        sum = sum + 4.0/(1.0+x*x)\n",
    "    pi = step * sum\n",
    "    end = time.time()\n",
    "    print(\"Pi with %d steps is %f in %f secs\" %(num_steps, pi, end-start))\n",
    "\n",
    "if __name__ == '__main__':\n",
    "    Pi(100000)"
   ]
  },
  {
   "cell_type": "code",
   "execution_count": null,
   "metadata": {},
   "outputs": [],
   "source": []
  }
 ],
 "metadata": {
  "kernelspec": {
   "display_name": "Python 3",
   "language": "python",
   "name": "python3"
  },
  "language_info": {
   "codemirror_mode": {
    "name": "ipython",
    "version": 3
   },
   "file_extension": ".py",
   "mimetype": "text/x-python",
   "name": "python",
   "nbconvert_exporter": "python",
   "pygments_lexer": "ipython3",
   "version": "3.7.6"
  }
 },
 "nbformat": 4,
 "nbformat_minor": 4
}
