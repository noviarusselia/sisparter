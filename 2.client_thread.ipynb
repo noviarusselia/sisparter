{
 "cells": [
  {
   "cell_type": "code",
   "execution_count": 5,
   "metadata": {},
   "outputs": [
    {
     "name": "stdout",
     "output_type": "stream",
     "text": [
      "Berhasil Konek\n",
      "Masukkan 'quit' untuk keluar\n",
      " -> quit\n"
     ]
    }
   ],
   "source": [
    "#import socket dan sys\n",
    "import socket, sys\n",
    "\n",
    "#fungsi utama\n",
    "def main():\n",
    "    #buat socket bertipe TCP\n",
    "    s = socket.socket(socket.AF_INET,socket.SOCK_STREAM)\n",
    "    #tentukan IP server target\n",
    "    ip = \"127.0.0.1\"\n",
    "    #tentukan port server\n",
    "    port = 8888\n",
    "    #lakukan koneksi ke server\n",
    "    try:\n",
    "        s.connect((ip,port))\n",
    "        print(\"Berhasil Konek\")\n",
    "    except:\n",
    "        #print error\n",
    "        print(\"Koneksi error\")\n",
    "        #exit\n",
    "        sys.exit()\n",
    "        \n",
    "    #tampilkan menu, enter quit to exit\n",
    "    print(\"Masukkan 'quit' untuk keluar\")\n",
    "    message = input(\" -> \")\n",
    "    \n",
    "    #selama pesan buka \"quit\", lakukan loop forever\n",
    "    while message != 'quit':\n",
    "        #kirimkan pesan yang ditulis ke server\n",
    "        s.send(message)\n",
    "        #menu (user interface)\n",
    "        message = input(\" -> \")\n",
    "    #send \"quit\" ke server\n",
    "    s.send(b'--quit--')\n",
    "\n",
    "#panggil fungsi utama\n",
    "if __name__ == \"__main__\":\n",
    "    main()"
   ]
  },
  {
   "cell_type": "code",
   "execution_count": null,
   "metadata": {},
   "outputs": [],
   "source": []
  }
 ],
 "metadata": {
  "kernelspec": {
   "display_name": "Python 3",
   "language": "python",
   "name": "python3"
  },
  "language_info": {
   "codemirror_mode": {
    "name": "ipython",
    "version": 3
   },
   "file_extension": ".py",
   "mimetype": "text/x-python",
   "name": "python",
   "nbconvert_exporter": "python",
   "pygments_lexer": "ipython3",
   "version": "3.7.6"
  }
 },
 "nbformat": 4,
 "nbformat_minor": 4
}
