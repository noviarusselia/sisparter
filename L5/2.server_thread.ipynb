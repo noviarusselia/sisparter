{
 "cells": [
  {
   "cell_type": "code",
   "execution_count": 4,
   "metadata": {},
   "outputs": [
    {
     "name": "stdout",
     "output_type": "stream",
     "text": [
      "Socket dibuat\n"
     ]
    }
   ],
   "source": [
    "#import socket, sys, traceback dan threading\n",
    "import socket, sys, traceback, threading\n",
    "\n",
    "#jalankan server\n",
    "def main():\n",
    "    start_server()\n",
    "#fungsi saat server dijalankan\n",
    "def start_server():\n",
    "    #tentukan IP server\n",
    "    ip = \"127.0.0.1\"\n",
    "    #tentukan port server\n",
    "    port = 8080\n",
    "    #buat socket bertipe TCP\n",
    "    s = socket.socket(socket.AF_INET, socket.SOCK_STREAM)\n",
    "    #option socket\n",
    "    s.setsockopt(socket.SOL_SOCKET, socket.SO_REUSEADDR, 1)\n",
    "    print(\"Socket dibuat\")\n",
    "    #lakukan bind\n",
    "    try:\n",
    "        s.bind((ip, port))\n",
    "    except:\n",
    "        #exit pada saat error\n",
    "        print(\"Bind gagal. Error : \"+str(sys.exc_info()))\n",
    "        sys.exit()\n",
    "        #listen hingga 5 antrian\n",
    "        s.listen(5)\n",
    "        print(\"Socket mendengarkan\")\n",
    "        #infinite loop, jangan reset setiap ada request\n",
    "        while True:\n",
    "            #terima koneksi\n",
    "            c, addr = s.accept()\n",
    "            #dapatkan IP dan port\n",
    "            print(\"Connected dengan \" + ip + \":\" + port)\n",
    "            #jalankan thread untuk setiap koneksi yang terhubunga\n",
    "            try:\n",
    "                Thread(target=client_thread, args=(c, ip, port)).start()\n",
    "            except:\n",
    "                #print kesalahan jika thread tidak berhasil dijalankan\n",
    "                print(\"Thread tidak berjalan.\")\n",
    "                traceback.print_exc()\n",
    "        #tutup socket()\n",
    "        s.close()\n",
    "\n",
    "def client_thread(c, ip, port, max_buffer_size = 4096):\n",
    "    #flag koneksi\n",
    "    is_active = True\n",
    "    #selama koneksi aktif\n",
    "    while is_active:\n",
    "        #terima pesan dari client\n",
    "        client_input = c.recv(max_buffer_size)\n",
    "        #dapatkan ukuran pesan\n",
    "        client_input_size = sys.getsizeof(client_input)\n",
    "        #print jika pesan terlalu besar\n",
    "        if client_input_size > max_buffer_size:\n",
    "            print(\"The input size is greater than expected {}\".format(client_input_size))\n",
    "            #dapatkan pesan setelah didecode\n",
    "            decoded_input = client_input.decode(\"utf8\").rstrip()\n",
    "            #jika \"quit\" maka flag koneksi = false, matikan koneksi\n",
    "            if \"quit\" in client_input:\n",
    "                #ubah flag\n",
    "                is_active = False\n",
    "                print(\"Client meminta keluar\")\n",
    "                #matikan koneksi\n",
    "                c.close()\n",
    "                print(\"Connection \" + ip + \":\" + port + \"ditutup\")\n",
    "            else:\n",
    "                #tampilkan pesan dari client\n",
    "                print(\"Processed result: {}\".format(client_input))\n",
    "                c.sendall(\"-\".encode(\"utf8\"))\n",
    "#panggil fungdi utama\n",
    "if __name__ == \"__main__\":\n",
    "    main()"
   ]
  }
 ],
 "metadata": {
  "kernelspec": {
   "display_name": "Python 3",
   "language": "python",
   "name": "python3"
  },
  "language_info": {
   "codemirror_mode": {
    "name": "ipython",
    "version": 3
   },
   "file_extension": ".py",
   "mimetype": "text/x-python",
   "name": "python",
   "nbconvert_exporter": "python",
   "pygments_lexer": "ipython3",
   "version": "3.7.6"
  }
 },
 "nbformat": 4,
 "nbformat_minor": 4
}
