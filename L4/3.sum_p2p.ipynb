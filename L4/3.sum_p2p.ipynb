{
 "cells": [
  {
   "cell_type": "code",
   "execution_count": 2,
   "metadata": {},
   "outputs": [
    {
     "name": "stdout",
     "output_type": "stream",
     "text": [
      "Jumlahnya yaitu  0\n"
     ]
    }
   ],
   "source": [
    "#import mpi4py\n",
    "from mpi4py import MPI\n",
    "#import library random untuk generate angka integer secara random\n",
    "from random import randint\n",
    "#buat COMM\n",
    "comm = MPI.COMM_WORLD\n",
    "#dapatkan rank proses\n",
    "rank = comm.Get_rank()\n",
    "#dapatkan total proses berjalan\n",
    "size = comm.Get_size()\n",
    "#generate angka integer secara random untuk setiap proses\n",
    "nilai = randint(1,10)\n",
    "#jika saya adalah proses dengan rank 0 maka:\n",
    "#saya menerima nilai dari proses 1 s.d proses dengan rank terbesar\n",
    "#menjumlah semua nilai yang didapat (termasuk nilai proses saya)\n",
    "if rank == 0:\n",
    "    sum = 0\n",
    "    for i in range(1,size):\n",
    "        nilai1 = comm.recv(source=i)\n",
    "        sum += nilai\n",
    "        print(\"Nilai dari proses dengan rank {} yaitu {}\".format(i,nilai))\n",
    "    print(\"Jumlahnya yaitu \",sum)\n",
    "#jika bukan proses dengan rank 0, saya akan mengirimkan nilai proses saya ke proses dengan rank=0\n",
    "else:\n",
    "    comm.send(angka,dest=0)"
   ]
  },
  {
   "cell_type": "code",
   "execution_count": null,
   "metadata": {},
   "outputs": [],
   "source": []
  }
 ],
 "metadata": {
  "kernelspec": {
   "display_name": "Python 3",
   "language": "python",
   "name": "python3"
  },
  "language_info": {
   "codemirror_mode": {
    "name": "ipython",
    "version": 3
   },
   "file_extension": ".py",
   "mimetype": "text/x-python",
   "name": "python",
   "nbconvert_exporter": "python",
   "pygments_lexer": "ipython3",
   "version": "3.7.6"
  }
 },
 "nbformat": 4,
 "nbformat_minor": 4
}
