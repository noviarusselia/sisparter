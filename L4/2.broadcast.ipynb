{
 "cells": [
  {
   "cell_type": "code",
   "execution_count": 1,
   "metadata": {},
   "outputs": [
    {
     "name": "stdout",
     "output_type": "stream",
     "text": [
      "Proses dengan rank 0 broadcast data berupa \"data broadcast\":\n"
     ]
    }
   ],
   "source": [
    "#import mpi4py\n",
    "from mpi4py import MPI\n",
    "#buat COMM\n",
    "comm = MPI.COMM_WORLD\n",
    "#dapatkan rank proses\n",
    "rank = comm.Get_rank()\n",
    "#dapatkan total proses berjalan\n",
    "size = comm.Get_size()\n",
    "\n",
    "if rank == 0:\n",
    "    data = 'data broadcast'\n",
    "else:\n",
    "    data = 'tidak ada'\n",
    "\n",
    "data = comm.bcast(data, root=0)\n",
    "#jika saya rank 0 maka saya akan melakukan broadcast\n",
    "if rank == 0:\n",
    "    print('Proses dengan rank {} broadcast data berupa \"{}\":'.format(rank, data))\n",
    "#jika saya bukan rank 0 maka saya menerima pesan\n",
    "else:\n",
    "    print('Proses dengan rank {} menerima pesan \"{}\":'.format(rank, data))"
   ]
  },
  {
   "cell_type": "code",
   "execution_count": null,
   "metadata": {},
   "outputs": [],
   "source": []
  }
 ],
 "metadata": {
  "kernelspec": {
   "display_name": "Python 3",
   "language": "python",
   "name": "python3"
  },
  "language_info": {
   "codemirror_mode": {
    "name": "ipython",
    "version": 3
   },
   "file_extension": ".py",
   "mimetype": "text/x-python",
   "name": "python",
   "nbconvert_exporter": "python",
   "pygments_lexer": "ipython3",
   "version": "3.7.6"
  }
 },
 "nbformat": 4,
 "nbformat_minor": 4
}
